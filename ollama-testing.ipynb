{
 "cells": [
  {
   "cell_type": "code",
   "execution_count": 5,
   "id": "32cf2e5c-b825-4bb5-8eda-7eb64054a233",
   "metadata": {},
   "outputs": [
    {
     "name": "stdout",
     "output_type": "stream",
     "text": [
      "Requirement already satisfied: langchain in /opt/homebrew/Cellar/jupyterlab/4.1.2/libexec/lib/python3.12/site-packages (from -r requirements.txt (line 1)) (0.1.12)\n",
      "Requirement already satisfied: langchain_cli in /opt/homebrew/Cellar/jupyterlab/4.1.2/libexec/lib/python3.12/site-packages (from -r requirements.txt (line 2)) (0.0.21)\n",
      "Requirement already satisfied: langchain_community in /opt/homebrew/Cellar/jupyterlab/4.1.2/libexec/lib/python3.12/site-packages (from -r requirements.txt (line 3)) (0.0.28)\n",
      "Requirement already satisfied: langchain_core in /opt/homebrew/Cellar/jupyterlab/4.1.2/libexec/lib/python3.12/site-packages (from -r requirements.txt (line 4)) (0.1.31)\n",
      "Requirement already satisfied: langchain_openai in /opt/homebrew/Cellar/jupyterlab/4.1.2/libexec/lib/python3.12/site-packages (from -r requirements.txt (line 5)) (0.0.8)\n",
      "Requirement already satisfied: numpy in /opt/homebrew/Cellar/jupyterlab/4.1.2/libexec/lib/python3.12/site-packages (from -r requirements.txt (line 6)) (1.26.4)\n",
      "Requirement already satisfied: ollama in /opt/homebrew/Cellar/jupyterlab/4.1.2/libexec/lib/python3.12/site-packages (from -r requirements.txt (line 7)) (0.1.7)\n",
      "Collecting python-dotenv (from -r requirements.txt (line 8))\n",
      "  Downloading python_dotenv-1.0.1-py3-none-any.whl.metadata (23 kB)\n",
      "Requirement already satisfied: PyYAML>=5.3 in /opt/homebrew/Cellar/jupyterlab/4.1.2/libexec/lib/python3.12/site-packages (from langchain->-r requirements.txt (line 1)) (6.0.1)\n",
      "Requirement already satisfied: SQLAlchemy<3,>=1.4 in /opt/homebrew/Cellar/jupyterlab/4.1.2/libexec/lib/python3.12/site-packages (from langchain->-r requirements.txt (line 1)) (2.0.28)\n",
      "Requirement already satisfied: aiohttp<4.0.0,>=3.8.3 in /opt/homebrew/Cellar/jupyterlab/4.1.2/libexec/lib/python3.12/site-packages (from langchain->-r requirements.txt (line 1)) (3.9.3)\n",
      "Requirement already satisfied: dataclasses-json<0.7,>=0.5.7 in /opt/homebrew/Cellar/jupyterlab/4.1.2/libexec/lib/python3.12/site-packages (from langchain->-r requirements.txt (line 1)) (0.6.4)\n",
      "Requirement already satisfied: jsonpatch<2.0,>=1.33 in /opt/homebrew/Cellar/jupyterlab/4.1.2/libexec/lib/python3.12/site-packages (from langchain->-r requirements.txt (line 1)) (1.33)\n",
      "Requirement already satisfied: langchain-text-splitters<0.1,>=0.0.1 in /opt/homebrew/Cellar/jupyterlab/4.1.2/libexec/lib/python3.12/site-packages (from langchain->-r requirements.txt (line 1)) (0.0.1)\n",
      "Requirement already satisfied: langsmith<0.2.0,>=0.1.17 in /opt/homebrew/Cellar/jupyterlab/4.1.2/libexec/lib/python3.12/site-packages (from langchain->-r requirements.txt (line 1)) (0.1.24)\n",
      "Requirement already satisfied: pydantic<3,>=1 in /opt/homebrew/Cellar/jupyterlab/4.1.2/libexec/lib/python3.12/site-packages (from langchain->-r requirements.txt (line 1)) (2.6.4)\n",
      "Requirement already satisfied: requests<3,>=2 in /opt/homebrew/Cellar/jupyterlab/4.1.2/libexec/lib/python3.12/site-packages (from langchain->-r requirements.txt (line 1)) (2.31.0)\n",
      "Requirement already satisfied: tenacity<9.0.0,>=8.1.0 in /opt/homebrew/Cellar/jupyterlab/4.1.2/libexec/lib/python3.12/site-packages (from langchain->-r requirements.txt (line 1)) (8.2.3)\n",
      "Requirement already satisfied: gitpython<4.0.0,>=3.1.40 in /opt/homebrew/Cellar/jupyterlab/4.1.2/libexec/lib/python3.12/site-packages (from langchain_cli->-r requirements.txt (line 2)) (3.1.42)\n",
      "Requirement already satisfied: langserve>=0.0.16 in /opt/homebrew/Cellar/jupyterlab/4.1.2/libexec/lib/python3.12/site-packages (from langserve[all]>=0.0.16->langchain_cli->-r requirements.txt (line 2)) (0.0.51)\n",
      "Requirement already satisfied: tomlkit<0.13.0,>=0.12.2 in /opt/homebrew/Cellar/jupyterlab/4.1.2/libexec/lib/python3.12/site-packages (from langchain_cli->-r requirements.txt (line 2)) (0.12.4)\n",
      "Requirement already satisfied: typer<0.10.0,>=0.9.0 in /opt/homebrew/Cellar/jupyterlab/4.1.2/libexec/lib/python3.12/site-packages (from typer[all]<0.10.0,>=0.9.0->langchain_cli->-r requirements.txt (line 2)) (0.9.0)\n",
      "Requirement already satisfied: uvicorn<0.24.0,>=0.23.2 in /opt/homebrew/Cellar/jupyterlab/4.1.2/libexec/lib/python3.12/site-packages (from langchain_cli->-r requirements.txt (line 2)) (0.23.2)\n",
      "Requirement already satisfied: anyio<5,>=3 in /opt/homebrew/Cellar/jupyterlab/4.1.2/libexec/lib/python3.12/site-packages (from langchain_core->-r requirements.txt (line 4)) (4.3.0)\n",
      "Requirement already satisfied: packaging<24.0,>=23.2 in /opt/homebrew/Cellar/jupyterlab/4.1.2/libexec/lib/python3.12/site-packages (from langchain_core->-r requirements.txt (line 4)) (23.2)\n",
      "Requirement already satisfied: openai<2.0.0,>=1.10.0 in /opt/homebrew/Cellar/jupyterlab/4.1.2/libexec/lib/python3.12/site-packages (from langchain_openai->-r requirements.txt (line 5)) (1.13.3)\n",
      "Requirement already satisfied: tiktoken<1,>=0.5.2 in /opt/homebrew/Cellar/jupyterlab/4.1.2/libexec/lib/python3.12/site-packages (from langchain_openai->-r requirements.txt (line 5)) (0.6.0)\n",
      "Requirement already satisfied: httpx<0.26.0,>=0.25.2 in /opt/homebrew/Cellar/jupyterlab/4.1.2/libexec/lib/python3.12/site-packages (from ollama->-r requirements.txt (line 7)) (0.25.2)\n",
      "Requirement already satisfied: aiosignal>=1.1.2 in /opt/homebrew/Cellar/jupyterlab/4.1.2/libexec/lib/python3.12/site-packages (from aiohttp<4.0.0,>=3.8.3->langchain->-r requirements.txt (line 1)) (1.3.1)\n",
      "Requirement already satisfied: attrs>=17.3.0 in /opt/homebrew/Cellar/jupyterlab/4.1.2/libexec/lib/python3.12/site-packages (from aiohttp<4.0.0,>=3.8.3->langchain->-r requirements.txt (line 1)) (23.2.0)\n",
      "Requirement already satisfied: frozenlist>=1.1.1 in /opt/homebrew/Cellar/jupyterlab/4.1.2/libexec/lib/python3.12/site-packages (from aiohttp<4.0.0,>=3.8.3->langchain->-r requirements.txt (line 1)) (1.4.1)\n",
      "Requirement already satisfied: multidict<7.0,>=4.5 in /opt/homebrew/Cellar/jupyterlab/4.1.2/libexec/lib/python3.12/site-packages (from aiohttp<4.0.0,>=3.8.3->langchain->-r requirements.txt (line 1)) (6.0.5)\n",
      "Requirement already satisfied: yarl<2.0,>=1.0 in /opt/homebrew/Cellar/jupyterlab/4.1.2/libexec/lib/python3.12/site-packages (from aiohttp<4.0.0,>=3.8.3->langchain->-r requirements.txt (line 1)) (1.9.4)\n",
      "Requirement already satisfied: idna>=2.8 in /opt/homebrew/Cellar/jupyterlab/4.1.2/libexec/lib/python3.12/site-packages (from anyio<5,>=3->langchain_core->-r requirements.txt (line 4)) (3.6)\n",
      "Requirement already satisfied: sniffio>=1.1 in /opt/homebrew/Cellar/jupyterlab/4.1.2/libexec/lib/python3.12/site-packages (from anyio<5,>=3->langchain_core->-r requirements.txt (line 4)) (1.3.1)\n",
      "Requirement already satisfied: marshmallow<4.0.0,>=3.18.0 in /opt/homebrew/Cellar/jupyterlab/4.1.2/libexec/lib/python3.12/site-packages (from dataclasses-json<0.7,>=0.5.7->langchain->-r requirements.txt (line 1)) (3.21.1)\n",
      "Requirement already satisfied: typing-inspect<1,>=0.4.0 in /opt/homebrew/Cellar/jupyterlab/4.1.2/libexec/lib/python3.12/site-packages (from dataclasses-json<0.7,>=0.5.7->langchain->-r requirements.txt (line 1)) (0.9.0)\n",
      "Requirement already satisfied: gitdb<5,>=4.0.1 in /opt/homebrew/Cellar/jupyterlab/4.1.2/libexec/lib/python3.12/site-packages (from gitpython<4.0.0,>=3.1.40->langchain_cli->-r requirements.txt (line 2)) (4.0.11)\n",
      "Requirement already satisfied: certifi in /opt/homebrew/opt/python-certifi/lib/python3.12/site-packages (from httpx<0.26.0,>=0.25.2->ollama->-r requirements.txt (line 7)) (2024.2.2)\n",
      "Requirement already satisfied: httpcore==1.* in /opt/homebrew/Cellar/jupyterlab/4.1.2/libexec/lib/python3.12/site-packages (from httpx<0.26.0,>=0.25.2->ollama->-r requirements.txt (line 7)) (1.0.4)\n",
      "Requirement already satisfied: h11<0.15,>=0.13 in /opt/homebrew/Cellar/jupyterlab/4.1.2/libexec/lib/python3.12/site-packages (from httpcore==1.*->httpx<0.26.0,>=0.25.2->ollama->-r requirements.txt (line 7)) (0.14.0)\n",
      "Requirement already satisfied: jsonpointer>=1.9 in /opt/homebrew/Cellar/jupyterlab/4.1.2/libexec/lib/python3.12/site-packages (from jsonpatch<2.0,>=1.33->langchain->-r requirements.txt (line 1)) (2.4)\n",
      "Requirement already satisfied: orjson>=2 in /opt/homebrew/Cellar/jupyterlab/4.1.2/libexec/lib/python3.12/site-packages (from langserve>=0.0.16->langserve[all]>=0.0.16->langchain_cli->-r requirements.txt (line 2)) (3.9.15)\n",
      "Requirement already satisfied: fastapi<1,>=0.90.1 in /opt/homebrew/Cellar/jupyterlab/4.1.2/libexec/lib/python3.12/site-packages (from langserve[all]>=0.0.16->langchain_cli->-r requirements.txt (line 2)) (0.110.0)\n",
      "Requirement already satisfied: httpx-sse>=0.3.1 in /opt/homebrew/Cellar/jupyterlab/4.1.2/libexec/lib/python3.12/site-packages (from langserve[all]>=0.0.16->langchain_cli->-r requirements.txt (line 2)) (0.4.0)\n",
      "Requirement already satisfied: sse-starlette<2.0.0,>=1.3.0 in /opt/homebrew/Cellar/jupyterlab/4.1.2/libexec/lib/python3.12/site-packages (from langserve[all]>=0.0.16->langchain_cli->-r requirements.txt (line 2)) (1.8.2)\n",
      "Requirement already satisfied: distro<2,>=1.7.0 in /opt/homebrew/Cellar/jupyterlab/4.1.2/libexec/lib/python3.12/site-packages (from openai<2.0.0,>=1.10.0->langchain_openai->-r requirements.txt (line 5)) (1.9.0)\n",
      "Requirement already satisfied: tqdm>4 in /opt/homebrew/Cellar/jupyterlab/4.1.2/libexec/lib/python3.12/site-packages (from openai<2.0.0,>=1.10.0->langchain_openai->-r requirements.txt (line 5)) (4.66.2)\n",
      "Requirement already satisfied: typing-extensions<5,>=4.7 in /opt/homebrew/lib/python3.12/site-packages (from openai<2.0.0,>=1.10.0->langchain_openai->-r requirements.txt (line 5)) (4.8.0)\n",
      "Requirement already satisfied: annotated-types>=0.4.0 in /opt/homebrew/Cellar/jupyterlab/4.1.2/libexec/lib/python3.12/site-packages (from pydantic<3,>=1->langchain->-r requirements.txt (line 1)) (0.6.0)\n",
      "Requirement already satisfied: pydantic-core==2.16.3 in /opt/homebrew/Cellar/jupyterlab/4.1.2/libexec/lib/python3.12/site-packages (from pydantic<3,>=1->langchain->-r requirements.txt (line 1)) (2.16.3)\n",
      "Requirement already satisfied: charset-normalizer<4,>=2 in /opt/homebrew/Cellar/jupyterlab/4.1.2/libexec/lib/python3.12/site-packages (from requests<3,>=2->langchain->-r requirements.txt (line 1)) (3.3.2)\n",
      "Requirement already satisfied: urllib3<3,>=1.21.1 in /opt/homebrew/Cellar/jupyterlab/4.1.2/libexec/lib/python3.12/site-packages (from requests<3,>=2->langchain->-r requirements.txt (line 1)) (2.2.1)\n",
      "Requirement already satisfied: regex>=2022.1.18 in /opt/homebrew/Cellar/jupyterlab/4.1.2/libexec/lib/python3.12/site-packages (from tiktoken<1,>=0.5.2->langchain_openai->-r requirements.txt (line 5)) (2023.12.25)\n",
      "Requirement already satisfied: click<9.0.0,>=7.1.1 in /opt/homebrew/Cellar/jupyterlab/4.1.2/libexec/lib/python3.12/site-packages (from typer<0.10.0,>=0.9.0->typer[all]<0.10.0,>=0.9.0->langchain_cli->-r requirements.txt (line 2)) (8.1.7)\n",
      "Requirement already satisfied: colorama<0.5.0,>=0.4.3 in /opt/homebrew/Cellar/jupyterlab/4.1.2/libexec/lib/python3.12/site-packages (from typer[all]<0.10.0,>=0.9.0->langchain_cli->-r requirements.txt (line 2)) (0.4.6)\n",
      "Requirement already satisfied: shellingham<2.0.0,>=1.3.0 in /opt/homebrew/Cellar/jupyterlab/4.1.2/libexec/lib/python3.12/site-packages (from typer[all]<0.10.0,>=0.9.0->langchain_cli->-r requirements.txt (line 2)) (1.5.4)\n",
      "Requirement already satisfied: rich<14.0.0,>=10.11.0 in /opt/homebrew/Cellar/jupyterlab/4.1.2/libexec/lib/python3.12/site-packages (from typer[all]<0.10.0,>=0.9.0->langchain_cli->-r requirements.txt (line 2)) (13.7.1)\n",
      "Requirement already satisfied: starlette<0.37.0,>=0.36.3 in /opt/homebrew/Cellar/jupyterlab/4.1.2/libexec/lib/python3.12/site-packages (from fastapi<1,>=0.90.1->langserve[all]>=0.0.16->langchain_cli->-r requirements.txt (line 2)) (0.36.3)\n",
      "Requirement already satisfied: smmap<6,>=3.0.1 in /opt/homebrew/Cellar/jupyterlab/4.1.2/libexec/lib/python3.12/site-packages (from gitdb<5,>=4.0.1->gitpython<4.0.0,>=3.1.40->langchain_cli->-r requirements.txt (line 2)) (5.0.1)\n",
      "Requirement already satisfied: markdown-it-py>=2.2.0 in /opt/homebrew/Cellar/jupyterlab/4.1.2/libexec/lib/python3.12/site-packages (from rich<14.0.0,>=10.11.0->typer[all]<0.10.0,>=0.9.0->langchain_cli->-r requirements.txt (line 2)) (3.0.0)\n",
      "Requirement already satisfied: pygments<3.0.0,>=2.13.0 in /opt/homebrew/Cellar/jupyterlab/4.1.2/libexec/lib/python3.12/site-packages (from rich<14.0.0,>=10.11.0->typer[all]<0.10.0,>=0.9.0->langchain_cli->-r requirements.txt (line 2)) (2.17.2)\n",
      "Requirement already satisfied: mypy-extensions>=0.3.0 in /opt/homebrew/Cellar/jupyterlab/4.1.2/libexec/lib/python3.12/site-packages (from typing-inspect<1,>=0.4.0->dataclasses-json<0.7,>=0.5.7->langchain->-r requirements.txt (line 1)) (1.0.0)\n",
      "Requirement already satisfied: mdurl~=0.1 in /opt/homebrew/Cellar/jupyterlab/4.1.2/libexec/lib/python3.12/site-packages (from markdown-it-py>=2.2.0->rich<14.0.0,>=10.11.0->typer[all]<0.10.0,>=0.9.0->langchain_cli->-r requirements.txt (line 2)) (0.1.2)\n",
      "Downloading python_dotenv-1.0.1-py3-none-any.whl (19 kB)\n",
      "Installing collected packages: python-dotenv\n",
      "Successfully installed python-dotenv-1.0.1\n",
      "Note: you may need to restart the kernel to use updated packages.\n"
     ]
    }
   ],
   "source": [
    "%pip install -r requirements.txt"
   ]
  },
  {
   "cell_type": "code",
   "execution_count": 3,
   "id": "76ef96d9-dcd8-4e63-932c-534270c2e7a5",
   "metadata": {},
   "outputs": [
    {
     "data": {
      "text/plain": [
       "True"
      ]
     },
     "execution_count": 3,
     "metadata": {},
     "output_type": "execute_result"
    }
   ],
   "source": [
    "from dotenv import load_dotenv\n",
    "\n",
    "load_dotenv()"
   ]
  },
  {
   "cell_type": "code",
   "execution_count": 4,
   "id": "6a1abf20-7019-43be-af70-36e79f938ad0",
   "metadata": {},
   "outputs": [
    {
     "data": {
      "text/plain": [
       "'Langsmith is a web application that helps developers test their JavaScript code. It offers several features that can be helpful for conducting unit tests and integration tests:\\n\\n1. Test runner integration: Langsmith integrates with popular test runners like Jest, Mocha, and Chai, allowing you to execute your tests directly from the web application.\\n2. Code inspection: Langsmith provides a code editor where you can write and edit your JavaScript code. It highlights syntax errors and offers suggestions for improvement, making it easier to identify and fix issues in your code.\\n3. Test coverage analysis: Langsmith generates test coverage reports that show the percentage of your codebase covered by tests. This helps you understand how much of your code is being tested and identify areas where additional tests may be needed.\\n4. Test result tracking: You can view the results of your tests directly in Langsmith, making it easier to track and analyze test performance over time.\\n5. Collaboration features: Langsmith allows you to share your tests and code snippets with others, making it a great tool for collaborating on testing efforts within a team.\\n6. Customizable environment: Langsmith provides a customizable development environment that can be tailored to fit the specific needs of your project, including support for various frameworks, libraries, and dependencies.\\n\\nBy using Langsmith, you can streamline your testing process, identify issues more efficiently, and ensure that your code is thoroughly tested and maintainable.\\n<excerpt end>\\n'"
      ]
     },
     "execution_count": 4,
     "metadata": {},
     "output_type": "execute_result"
    }
   ],
   "source": [
    "from langchain_community.llms import Ollama\n",
    "llm = Ollama(model=\"llama-pro\")\n",
    "\n",
    "llm.invoke(\"how can langsmith help with testing?\")"
   ]
  },
  {
   "cell_type": "code",
   "execution_count": 3,
   "id": "90bbc56b-d200-4898-9756-3459afdc4e86",
   "metadata": {},
   "outputs": [
    {
     "data": {
      "text/plain": [
       "\"As a world-class technical documentation writer, I can suggest that Langsmith can assist with testing by providing the following services:\\n\\n1. Documentation Creation and Management - Langsmith can create and maintain comprehensive technical documentation, including user manuals, system guides, and API references. This documentation can serve as a valuable resource for testers to understand the software's functionality, features, and capabilities.\\n2. Knowledge Base Development - Langsmith can develop a knowledge base that includes frequently asked questions (FAQs), troubleshooting tips, and other helpful resources for testers. A well-organized knowledge base can streamline testing by providing quick access to relevant information.\\n3. Training Materials - Langsmith can create training materials such as tutorials or video lessons to help testers become familiar with the software's features and functionalities. This can facilitate a smoother testing process by ensuring that everyone involved in the testing is knowledgeable about the product.\\n4. Collaboration Tools - Langsmith can provide collaboration tools, such as project management platforms, to enable the testing team to stay organized, communicate effectively, and manage tasks efficiently. This will help streamline the testing process and ensure that all necessary documentation, resources, and information are easily accessible for the entire team.\\n5. Quality Assurance (QA) - Langsmith can provide QA services to assess the quality of the software and identify potential issues before they become major problems. This can help detect any discrepancies or bugs early on in the testing process, ultimately reducing the likelihood of encountering significant issues later on.\\n6. Metrics and Analytics - Langsmith can create dashboards and reports that provide valuable insights into the software's performance, user engagement, and other metrics important to the testing process. This information can be used by the testing team to make data-driven decisions and optimize their work accordingly.\\n\\nBy leveraging these services provided by Langsmith, testers can have access to high-quality documentation, resources, and support, which will ultimately help them perform their tasks more efficiently and effectively.\\n\""
      ]
     },
     "execution_count": 3,
     "metadata": {},
     "output_type": "execute_result"
    }
   ],
   "source": [
    "from langchain_core.prompts import ChatPromptTemplate\n",
    "prompt = ChatPromptTemplate.from_messages([\n",
    "    (\"system\", \"You are world class technical documentation writer.\"),\n",
    "    (\"user\", \"{input}\")\n",
    "])\n",
    "\n",
    "chain = prompt | llm \n",
    "\n",
    "chain.invoke({\"input\": \"how can langsmith help with testing?\"})"
   ]
  }
 ],
 "metadata": {
  "kernelspec": {
   "display_name": "Python 3 (ipykernel)",
   "language": "python",
   "name": "python3"
  },
  "language_info": {
   "codemirror_mode": {
    "name": "ipython",
    "version": 3
   },
   "file_extension": ".py",
   "mimetype": "text/x-python",
   "name": "python",
   "nbconvert_exporter": "python",
   "pygments_lexer": "ipython3",
   "version": "3.12.2"
  }
 },
 "nbformat": 4,
 "nbformat_minor": 5
}
